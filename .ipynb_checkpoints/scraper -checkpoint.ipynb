{
 "cells": [
  {
   "cell_type": "code",
   "execution_count": 1,
   "metadata": {},
   "outputs": [
    {
     "name": "stderr",
     "output_type": "stream",
     "text": [
      "C:\\Users\\Mohit\\Anaconda3\\lib\\site-packages\\selenium\\webdriver\\phantomjs\\webdriver.py:49: UserWarning: Selenium support for PhantomJS has been deprecated, please use headless versions of Chrome or Firefox instead\n",
      "  warnings.warn('Selenium support for PhantomJS has been deprecated, please use headless '\n"
     ]
    }
   ],
   "source": [
    "import requests\n",
    "from bs4 import BeautifulSoup\n",
    "from selenium import webdriver\n",
    "import time\n",
    "from selenium.webdriver.support.ui import WebDriverWait\n",
    "from selenium.webdriver import ActionChains\n",
    "from selenium.webdriver.support.ui import WebDriverWait\n",
    "from selenium.webdriver.support import expected_conditions as EC\n",
    "from selenium.webdriver.common.by import By\n",
    "from selenium.common.exceptions import TimeoutException\n",
    "\n",
    "driver = webdriver.PhantomJS()\n",
    "\n",
    "url= 'https://gist.githubusercontent.com/tdreyno/4278655/raw/7b0762c09b519f40397e4c3e100b097d861f5588/airports.json'\n",
    "r = requests.get(url)\n",
    "data= r.json()"
   ]
  },
  {
   "cell_type": "code",
   "execution_count": 2,
   "metadata": {},
   "outputs": [],
   "source": [
    "def getAirportData(frm, dest):\n",
    "    \n",
    "    frm_code = ''\n",
    "    frm_city = ''\n",
    "    frm_country = ''\n",
    "    \n",
    "    \n",
    "    to_code=''\n",
    "    to_city=''\n",
    "    to_country=''\n",
    "    for i in data:\n",
    "        if i['city'].lower().find(frm.lower()) !=- 1:\n",
    "            frm_code=i['code']\n",
    "            frm_city=i['city']\n",
    "\n",
    "            frm_country=i['country']\n",
    "        \n",
    "        if i['city'].lower().find(dest.lower()) !=- 1:\n",
    "            to_code=i['code']\n",
    "            to_city=i['city']\n",
    "\n",
    "            to_country=i['country']\n",
    "            \n",
    "    return frm_code,frm_city,frm_country,to_code,to_city,to_country"
   ]
  },
  {
   "cell_type": "code",
   "execution_count": 3,
   "metadata": {},
   "outputs": [],
   "source": [
    "def form_url(frm, dest,date):\n",
    "    frm_code,frm_city,frm_country,to_code,to_city,to_country = getAirportData(frm,dest)\n",
    "    url = 'https://flight.easemytrip.com/FlightList/Index?srch='+frm_code+'-'+frm_city.replace(\" \",\"\")+'-'+frm_country.replace(\" \",\"\")+'|'+to_code+'-'+to_city.replace(\" \",\"\")+'-'+to_country.replace(\" \",\"\")+'|'+date+'&px=1-0-0&cbn=0&ar=undefined&isow=true&isdm=true&lng=&'\n",
    "    return url\n",
    "    "
   ]
  },
  {
   "cell_type": "code",
   "execution_count": 4,
   "metadata": {},
   "outputs": [],
   "source": [
    "def get_html(frm,dest,date):\n",
    "    url=form_url(frm,dest,date)\n",
    "    driver.get(url)\n",
    "\n",
    "    time.sleep(10)\n",
    "    html = driver.page_source\n",
    "    return html\n"
   ]
  },
  {
   "cell_type": "code",
   "execution_count": 5,
   "metadata": {},
   "outputs": [],
   "source": [
    "def get_children(frm, dest,date):\n",
    "    soup=BeautifulSoup(get_html(frm,dest,date),'lxml')\n",
    "    ele = soup.find_all('div',{'class':'fltResult'})\n",
    "    return ele\n",
    "    "
   ]
  },
  {
   "cell_type": "code",
   "execution_count": 6,
   "metadata": {},
   "outputs": [],
   "source": [
    "def get_inner_offers(frm, dest,date):\n",
    "    soup=BeautifulSoup(get_html(frm,dest,date),'lxml')\n",
    "    elements = driver.find_elements_by_class_name(\"book-bt-n\")\n",
    "    if(len(elements)>0):\n",
    "        elements[0].click()\n",
    "        time.sleep(10)\n",
    "        html = driver.page_source\n",
    "        soup=BeautifulSoup(html,'lxml')\n",
    "        ele = soup.find_all('div',{'class':'coupn_scrl'})\n",
    "        l = ele[0].text.split('\\n')\n",
    "        l=[x for x in l if x]\n",
    "        if 'T&C Apply' in l: l.remove('T&C Apply')\n",
    "        if ' T&C Apply' in l: l.remove(' T&C Apply')\n",
    "        if 'T&C Apply ' in l: l.remove('T&C Apply ')\n",
    "        del l[0::2]\n",
    "        '\\n'.join(l)\n",
    "        return l\n",
    "    else:\n",
    "        print(\"couldn't connect\")\n",
    "   "
   ]
  },
  {
   "cell_type": "code",
   "execution_count": 7,
   "metadata": {},
   "outputs": [],
   "source": [
    "def create_dict(frm, dest,date):\n",
    "    child = get_children(frm,dest,date)\n",
    "    time.sleep(5)\n",
    "    offers = get_inner_offers(frm, dest,date)\n",
    "    dic = {}\n",
    "    content= []\n",
    "    for c in child:\n",
    "        l = c.text.split('\\n')\n",
    "        l=[x for x in l if x]\n",
    "        #if(l[9] == l[10]):\n",
    "            #continue\n",
    "        dic={\n",
    "            \"website\":'easeMyTrip',\n",
    "            \"airline_name\":l[0].replace(\" \",\"\"),\n",
    "            \"plane_number\":l[1].replace(\" \",\"\"),\n",
    "            \"date\": date,\n",
    "            \"departure_airport\":l[3].replace(\" \",\"\"),\n",
    "            \"departure_time\":l[2].replace(\" \",\"\"),\n",
    "            \"arrival_airport\":l[7].replace(\" \",\"\"),\n",
    "            \"arrival_time\":l[6].replace(\" \",\"\"),\n",
    "            \"flight_duration\":l[4].replace(\" \",\"\"),\n",
    "            \"stops\":l[5].replace(\" \",\"\"),\n",
    "            \"original_price\": l[9].replace(\" \",\"\"),\n",
    "            \"reduced_price\": l[10].replace(\" \",\"\"),\n",
    "            \"offers\":offers    \n",
    "        }\n",
    "        content.append(dic)\n",
    "    return content"
   ]
  },
  {
   "cell_type": "code",
   "execution_count": null,
   "metadata": {},
   "outputs": [],
   "source": [
    "var = create_dict('delhi','mumbai','01/10/2020')"
   ]
  },
  {
   "cell_type": "code",
   "execution_count": null,
   "metadata": {},
   "outputs": [],
   "source": []
  }
 ],
 "metadata": {
  "kernelspec": {
   "display_name": "Python 3",
   "language": "python",
   "name": "python3"
  },
  "language_info": {
   "codemirror_mode": {
    "name": "ipython",
    "version": 3
   },
   "file_extension": ".py",
   "mimetype": "text/x-python",
   "name": "python",
   "nbconvert_exporter": "python",
   "pygments_lexer": "ipython3",
   "version": "3.7.1"
  }
 },
 "nbformat": 4,
 "nbformat_minor": 2
}
