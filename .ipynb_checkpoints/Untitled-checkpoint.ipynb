{
 "cells": [
  {
   "cell_type": "code",
   "execution_count": 1,
   "metadata": {},
   "outputs": [],
   "source": [
    "from bs4 import BeautifulSoup\n",
    "import urllib3\n",
    "from requests import get\n",
    "import requests\n",
    "from time import sleep\n",
    "import random\n",
    "import re\n",
    "import pprint\n",
    "import csv\n",
    "import json\n",
    "import os\n",
    "\n",
    "from datetime import datetime\n",
    "import pickle\n",
    "\n",
    "import requests\n",
    "from bs4 import BeautifulSoup\n",
    "from selenium import webdriver\n",
    "import time"
   ]
  },
  {
   "cell_type": "code",
   "execution_count": 2,
   "metadata": {},
   "outputs": [
    {
     "name": "stderr",
     "output_type": "stream",
     "text": [
      "C:\\Users\\Mohit\\Anaconda3\\lib\\site-packages\\selenium\\webdriver\\phantomjs\\webdriver.py:49: UserWarning: Selenium support for PhantomJS has been deprecated, please use headless versions of Chrome or Firefox instead\n",
      "  warnings.warn('Selenium support for PhantomJS has been deprecated, please use headless '\n"
     ]
    }
   ],
   "source": [
    "driver = webdriver.PhantomJS()\n"
   ]
  },
  {
   "cell_type": "code",
   "execution_count": 3,
   "metadata": {},
   "outputs": [],
   "source": [
    "\n",
    "def getAirportData(frm, dest):\n",
    "    url= 'https://gist.githubusercontent.com/tdreyno/4278655/raw/7b0762c09b519f40397e4c3e100b097d861f5588/airports.json'\n",
    "    r = requests.get(url)\n",
    "    data= r.json()\n",
    "    frm_code = ''\n",
    "    frm_city = ''\n",
    "    frm_country = ''\n",
    "    \n",
    "    \n",
    "    to_code=''\n",
    "    to_city=''\n",
    "    to_country=''\n",
    "    for i in data:\n",
    "        if i['city'].lower().find(frm.lower()) !=- 1:\n",
    "            frm_code=i['code']\n",
    "            frm_city=i['city']\n",
    "            frm_country=i['country']\n",
    "            \n",
    "            \n",
    "        \n",
    "        if i['city'].lower().find(dest.lower()) !=- 1:\n",
    "            to_code=i['code']\n",
    "            to_city=i['city']\n",
    "            to_country=i['country']\n",
    "            \n",
    "    return frm_code,frm_city,frm_country,to_code,to_city,to_country\n",
    "\n",
    "\n",
    "\n",
    "\n",
    "def ixigo_form_url(frm, dest, date):\n",
    "    frm_code,frm_city,frm_country,to_code,to_city,to_country = getAirportData(frm,dest)\n",
    "    # url = 'https://flight.easemytrip.com/FlightList/Index?srch='+frm_code+'-'+frm_city.replace(\" \",\"\")+'-'+frm_country.replace(\" \",\"\")+'|'+to_code+'-'+to_city.replace(\" \",\"\")+'-'+to_country.replace(\" \",\"\")+'|'+date+'&px=1-0-0&cbn=0&ar=undefined&isow=true&isdm=true&lng=&'\n",
    "    temp_date = date.split('/')\n",
    "    new_date = ''\n",
    "    for i in temp_date:\n",
    "        new_date+=str(i)\n",
    "    base_url = 'https://www.ixigo.com/search/result/flight/'+frm_code+'/'+to_code+'/'+new_date+'//1/0/0/e?source=Search%20Form'\n",
    "    # url = 'https://www.cleartrip.com/flights/results?origin=New+Delhi,+IN+-+Indira+Gandhi+Airport+(DEL)&from=DEL&destination=Mumbai,+IN+-+Chatrapati+Shivaji+Airport+(BOM)&to=BOM&depart_date=27/07/2020&adults=1&childs=0&infants=0&class=Economy&airline=&carrier=&intl=n&sd=1593441434422&rnd_one=O'\n",
    "    print(base_url)\n",
    "    return base_url\n",
    "\n",
    "def ixigo_get_html(frm,dest,date):\n",
    "    # url=form_url(frm,dest,date)\n",
    "    # response = requests.get(url)\n",
    "    # soup = BeautifulSoup(response.text, \"html.parser\")\n",
    "    # return soup\n",
    "    url=ixigo_form_url(frm,dest,date)\n",
    "    driver.get(url)\n",
    "    time.sleep(20)\n",
    "    html = driver.page_source\n",
    "    return html\n",
    "\n",
    "def ixigo_get_children(frm, dest,date):\n",
    "    soup=BeautifulSoup(ixigo_get_html(frm,dest,date),'lxml')\n",
    "    ele = soup.find_all('div',{'class':'summary-section'})\n",
    "#     ele = soup.find_all('div')\n",
    "    return ele"
   ]
  },
  {
   "cell_type": "code",
   "execution_count": 4,
   "metadata": {},
   "outputs": [],
   "source": [
    "my_cities = []\n",
    "for i in data:\n",
    "    my_cities.append([i['city']])\n"
   ]
  },
  {
   "cell_type": "code",
   "execution_count": 5,
   "metadata": {},
   "outputs": [
    {
     "data": {
      "text/plain": [
       "3885"
      ]
     },
     "execution_count": 5,
     "metadata": {},
     "output_type": "execute_result"
    }
   ],
   "source": [
    "len(my_cities)"
   ]
  },
  {
   "cell_type": "code",
   "execution_count": 6,
   "metadata": {
    "scrolled": true
   },
   "outputs": [
    {
     "name": "stdout",
     "output_type": "stream",
     "text": [
      "https://www.ixigo.com/search/result/flight/DEL/BLR/22072020//1/0/0/e?source=Search%20Form\n"
     ]
    }
   ],
   "source": [
    "child = ixigo_get_children('delhi', 'bangalore', '22/07/2020')"
   ]
  },
  {
   "cell_type": "code",
   "execution_count": 7,
   "metadata": {
    "scrolled": true
   },
   "outputs": [
    {
     "name": "stdout",
     "output_type": "stream",
     "text": [
      "<div class=\"summary-section\"><div class=\"flight-info flight-info-no-burn \"><div class=\"airline-info\"><div class=\"logo\"><img src=\"https://images.ixigo.com/img/common-resources/airline-new/I5.png\" title=\"AirAsia India56\"/></div><div class=\"text\"><div class=\"u-text-ellipsis\"><a class=\"flight-name\"><div class=\"u-uppercase u-text-ellipsis\" title=\"AirAsia India\">AirAsia India</div></a><div class=\"u-text-ellipsis\" title=\"I5740\">I5740</div></div></div></div><div class=\"flight-summary\"><div class=\"left-wing\"><div class=\"airport-code\">DEL</div><div class=\"time\">08:10</div><div class=\"date\">Wed, 22 Jul</div> <div class=\"city u-text-ellipsis\" title=\"New Delhi\">New Delhi</div></div><div class=\"timeline-widget u-lfloat\"><div class=\"c-timeline-wrapper horizontal\"><div class=\"label tl first\" style=\"font-size: 12px;\"></div> <div class=\"label tl \" style=\"font-size: 12px;\">2hr 25min</div> <div class=\"label tl last\" style=\"font-size: 12px;\"></div> <div class=\"c-timeline\" style=\"height: 2px; background-color: rgb(187, 187, 187);\"><div class=\"dot\" style=\"width: 6px; height: 6px; border-top-left-radius: 6px; border-top-right-radius: 6px; border-bottom-right-radius: 6px; border-bottom-left-radius: 6px; background-color: rgb(117, 117, 117); margin-top: -2px;\"></div> <div class=\"dot\" style=\"width: 6px; height: 6px; border-top-left-radius: 6px; border-top-right-radius: 6px; border-bottom-right-radius: 6px; border-bottom-left-radius: 6px; background-color: rgb(117, 117, 117); margin-top: -2px;\"></div> </div><div class=\"label br first\" style=\"font-size: 12px;\"></div> <div class=\"label br \" style=\"font-size: 12px;\">non-stop</div> <div class=\"label br last\" style=\"font-size: 12px;\"></div> </div></div><div class=\"right-wing\"><div class=\"airport-code\">BLR</div><div class=\"time\">10:35</div><div class=\"date\">Wed, 22 Jul</div> <div class=\"city u-text-ellipsis\" title=\"Bengaluru\">Bengaluru</div></div><div class=\"u-clear\"></div></div><div class=\"detail-links null\"><div class=\"u-rfloat link\">Flight Detail <i class=\"ixi-icon-chevron arrow\"></i></div><div class=\"u-clear\"></div></div></div><div class=\"provider-list provider-no-burn\"><div class=\"fare-provider-list u-fb single-item\"><div class=\"list-item selected-fare\"><div class=\"price-section\"><div class=\"price\"><div class=\"c-price-display u-text-ellipsis \" title=\"\"><span class=\"icon\"><i aria-hidden=\"true\" class=\"ixi-icon-inr icon\"></i></span><span class=\"\">4983</span></div></div><div class=\"features u-ib\"></div></div><span class=\"dynot-wrapper\"><span><span class=\"dynot\" style=\"font:11px/1 system-ui,-apple-system,BlinkMacSystemFont,Segoe UI,Roboto,Oxygen,Ubuntu,Cantarell,Open Sans,Helvetica Neue; color: #559B09;\">₹100 Extra Off</span></span></span></div></div></div><div class=\"preferred-provider one-way\"><div class=\"preferred-provider-container\"><div class=\"refundable-text\">Partially Refundable</div><div class=\"book-cta\"><button class=\"c-btn u-link enabled\"><div class=\"u-ripple\"><span class=\"u-ripple-circle\"></span></div>Book</button></div></div></div></div>\n",
      "15\n"
     ]
    }
   ],
   "source": [
    "# child[0].findAll('div', {'class':'summary-section'})\n",
    "ctr=0\n",
    "print(child[0])\n",
    "for i in child:\n",
    "#     print(i.text)\n",
    "    ctr+=1\n",
    "print(ctr)"
   ]
  },
  {
   "cell_type": "code",
   "execution_count": 8,
   "metadata": {},
   "outputs": [
    {
     "data": {
      "text/plain": [
       "'AirAsia IndiaI5740DEL08:10Wed, 22 Jul New Delhi 2hr 25min     non-stop  BLR10:35Wed, 22 Jul BengaluruFlight Detail 4983₹100 Extra OffPartially RefundableBook'"
      ]
     },
     "execution_count": 8,
     "metadata": {},
     "output_type": "execute_result"
    }
   ],
   "source": [
    "child[0].text"
   ]
  },
  {
   "cell_type": "code",
   "execution_count": 10,
   "metadata": {
    "scrolled": true
   },
   "outputs": [
    {
     "name": "stdout",
     "output_type": "stream",
     "text": [
      "https://www.ixigo.com/search/result/flight/DEL/BOM/22072020//1/0/0/e?source=Search%20Form\n",
      "IndiGo6E5339DEL11:00Wed, 22 Jul New Delhi 2hr 5min     non-stop  BOM13:05Wed, 22 Jul MumbaiFlight Detail 3933₹100 Extra OffPartially RefundableBook\n",
      "IndiGo6E755DEL15:35Wed, 22 Jul New Delhi 2hr 5min     non-stop  BOM17:40Wed, 22 Jul MumbaiFlight Detail 3933₹100 Extra OffPartially RefundableBook\n",
      "AirAsia IndiaI5883DEL16:10Wed, 22 Jul New Delhi 2hr 10min     non-stop  BOM18:20Wed, 22 Jul MumbaiFlight Detail 3933₹100 Extra OffPartially RefundableBook\n",
      "AirAsia IndiaI5314DEL05:45Wed, 22 Jul New Delhi 2hr 10min     non-stop  BOM07:55Wed, 22 Jul MumbaiFlight Detail 3933₹100 Extra OffPartially RefundableBook\n",
      "Go AirG8346DEL19:50Wed, 22 Jul New Delhi 2hr 10min     non-stop  BOM22:00Wed, 22 Jul MumbaiFlight Detail 3934₹100 Extra OffPartially RefundableBook\n",
      "Go AirG8530DEL07:00Wed, 22 Jul New Delhi 2hr 10min     non-stop  BOM09:10Wed, 22 Jul MumbaiFlight Detail 3934₹100 Extra OffPartially RefundableBook\n",
      "Go AirG8336DEL14:30Wed, 22 Jul New Delhi 2hr 10min     non-stop  BOM16:40Wed, 22 Jul MumbaiFlight Detail 3934₹100 Extra OffPartially RefundableBook\n",
      "Go AirG8334DEL08:00Wed, 22 Jul New Delhi 2hr 10min     non-stop  BOM10:10Wed, 22 Jul MumbaiFlight Detail 3934₹100 Extra OffPartially RefundableBook\n",
      "Go AirG8338DEL10:55Wed, 22 Jul New Delhi 2hr 15min     non-stop  BOM13:10Wed, 22 Jul MumbaiFlight Detail 3934₹100 Extra OffPartially RefundableBook\n",
      "Go AirG8323DEL18:20Wed, 22 Jul New Delhi 2hr 15min     non-stop  BOM20:35Wed, 22 Jul MumbaiFlight Detail 3934₹100 Extra OffPartially RefundableBook\n",
      "Go AirG8392DEL15:45Wed, 22 Jul New Delhi 2hr 15min     non-stop  BOM18:00Wed, 22 Jul MumbaiFlight Detail 3934₹100 Extra OffPartially RefundableBook\n",
      "Go AirG82501DEL02:40Wed, 22 Jul New Delhi 2hr 15min     non-stop  BOM04:55Wed, 22 Jul MumbaiFlight Detail 3934₹100 Extra OffPartially RefundableBook\n",
      "Go AirG8330DEL20:50Wed, 22 Jul New Delhi 2hr 30min     non-stop  BOM23:20Wed, 22 Jul MumbaiFlight Detail 3934₹100 Extra OffPartially RefundableBook\n",
      "SpiceJetSG8169DEL19:50Wed, 22 Jul New Delhi 2hr 15min     non-stop  BOM22:05Wed, 22 Jul MumbaiFlight Detail 3935₹100 Extra OffPartially RefundableBook\n",
      "SpiceJetSG8723DEL06:45Wed, 22 Jul New Delhi 2hr 25min     non-stop  BOM09:10Wed, 22 Jul MumbaiFlight Detail 3935₹100 Extra OffPartially RefundableBook\n"
     ]
    },
    {
     "data": {
      "text/plain": [
       "[{'website': 'ixigo',\n",
       "  'airline_name': 'IndiGo',\n",
       "  'plane_number': '6E5339',\n",
       "  'date': '22/07/2020',\n",
       "  'departure_airport': 'New Delhi',\n",
       "  'departure_time': '11:00',\n",
       "  'arrival_airport': 'Mumbai',\n",
       "  'arrival_time': '13:05',\n",
       "  'flight_duration': '2hr 5min',\n",
       "  'stops': '0',\n",
       "  'original_price': '3933',\n",
       "  'reduced_price': '3933',\n",
       "  'offers': '₹100 Extra Off'},\n",
       " {'website': 'ixigo',\n",
       "  'airline_name': 'IndiGo',\n",
       "  'plane_number': '6E755',\n",
       "  'date': '22/07/2020',\n",
       "  'departure_airport': 'New Delhi',\n",
       "  'departure_time': '15:35',\n",
       "  'arrival_airport': 'Mumbai',\n",
       "  'arrival_time': '17:40',\n",
       "  'flight_duration': '2hr 5min',\n",
       "  'stops': '0',\n",
       "  'original_price': '3933',\n",
       "  'reduced_price': '3933',\n",
       "  'offers': '₹100 Extra Off'},\n",
       " {'website': 'ixigo',\n",
       "  'airline_name': 'AirAsia India',\n",
       "  'plane_number': 'I5883',\n",
       "  'date': '22/07/2020',\n",
       "  'departure_airport': 'New Delhi',\n",
       "  'departure_time': '16:10',\n",
       "  'arrival_airport': 'Mumbai',\n",
       "  'arrival_time': '18:20',\n",
       "  'flight_duration': '2hr 10min',\n",
       "  'stops': '0',\n",
       "  'original_price': '3933',\n",
       "  'reduced_price': '3933',\n",
       "  'offers': '₹100 Extra Off'},\n",
       " {'website': 'ixigo',\n",
       "  'airline_name': 'AirAsia India',\n",
       "  'plane_number': 'I5314',\n",
       "  'date': '22/07/2020',\n",
       "  'departure_airport': 'New Delhi',\n",
       "  'departure_time': '05:45',\n",
       "  'arrival_airport': 'Mumbai',\n",
       "  'arrival_time': '07:55',\n",
       "  'flight_duration': '2hr 10min',\n",
       "  'stops': '0',\n",
       "  'original_price': '3933',\n",
       "  'reduced_price': '3933',\n",
       "  'offers': '₹100 Extra Off'},\n",
       " {'website': 'ixigo',\n",
       "  'airline_name': 'Go Air',\n",
       "  'plane_number': 'G8346',\n",
       "  'date': '22/07/2020',\n",
       "  'departure_airport': 'New Delhi',\n",
       "  'departure_time': '19:50',\n",
       "  'arrival_airport': 'Mumbai',\n",
       "  'arrival_time': '22:00',\n",
       "  'flight_duration': '2hr 10min',\n",
       "  'stops': '0',\n",
       "  'original_price': '3934',\n",
       "  'reduced_price': '3934',\n",
       "  'offers': '₹100 Extra Off'},\n",
       " {'website': 'ixigo',\n",
       "  'airline_name': 'Go Air',\n",
       "  'plane_number': 'G8530',\n",
       "  'date': '22/07/2020',\n",
       "  'departure_airport': 'New Delhi',\n",
       "  'departure_time': '07:00',\n",
       "  'arrival_airport': 'Mumbai',\n",
       "  'arrival_time': '09:10',\n",
       "  'flight_duration': '2hr 10min',\n",
       "  'stops': '0',\n",
       "  'original_price': '3934',\n",
       "  'reduced_price': '3934',\n",
       "  'offers': '₹100 Extra Off'},\n",
       " {'website': 'ixigo',\n",
       "  'airline_name': 'Go Air',\n",
       "  'plane_number': 'G8336',\n",
       "  'date': '22/07/2020',\n",
       "  'departure_airport': 'New Delhi',\n",
       "  'departure_time': '14:30',\n",
       "  'arrival_airport': 'Mumbai',\n",
       "  'arrival_time': '16:40',\n",
       "  'flight_duration': '2hr 10min',\n",
       "  'stops': '0',\n",
       "  'original_price': '3934',\n",
       "  'reduced_price': '3934',\n",
       "  'offers': '₹100 Extra Off'},\n",
       " {'website': 'ixigo',\n",
       "  'airline_name': 'Go Air',\n",
       "  'plane_number': 'G8334',\n",
       "  'date': '22/07/2020',\n",
       "  'departure_airport': 'New Delhi',\n",
       "  'departure_time': '08:00',\n",
       "  'arrival_airport': 'Mumbai',\n",
       "  'arrival_time': '10:10',\n",
       "  'flight_duration': '2hr 10min',\n",
       "  'stops': '0',\n",
       "  'original_price': '3934',\n",
       "  'reduced_price': '3934',\n",
       "  'offers': '₹100 Extra Off'},\n",
       " {'website': 'ixigo',\n",
       "  'airline_name': 'Go Air',\n",
       "  'plane_number': 'G8338',\n",
       "  'date': '22/07/2020',\n",
       "  'departure_airport': 'New Delhi',\n",
       "  'departure_time': '10:55',\n",
       "  'arrival_airport': 'Mumbai',\n",
       "  'arrival_time': '13:10',\n",
       "  'flight_duration': '2hr 15min',\n",
       "  'stops': '0',\n",
       "  'original_price': '3934',\n",
       "  'reduced_price': '3934',\n",
       "  'offers': '₹100 Extra Off'},\n",
       " {'website': 'ixigo',\n",
       "  'airline_name': 'Go Air',\n",
       "  'plane_number': 'G8323',\n",
       "  'date': '22/07/2020',\n",
       "  'departure_airport': 'New Delhi',\n",
       "  'departure_time': '18:20',\n",
       "  'arrival_airport': 'Mumbai',\n",
       "  'arrival_time': '20:35',\n",
       "  'flight_duration': '2hr 15min',\n",
       "  'stops': '0',\n",
       "  'original_price': '3934',\n",
       "  'reduced_price': '3934',\n",
       "  'offers': '₹100 Extra Off'},\n",
       " {'website': 'ixigo',\n",
       "  'airline_name': 'Go Air',\n",
       "  'plane_number': 'G8392',\n",
       "  'date': '22/07/2020',\n",
       "  'departure_airport': 'New Delhi',\n",
       "  'departure_time': '15:45',\n",
       "  'arrival_airport': 'Mumbai',\n",
       "  'arrival_time': '18:00',\n",
       "  'flight_duration': '2hr 15min',\n",
       "  'stops': '0',\n",
       "  'original_price': '3934',\n",
       "  'reduced_price': '3934',\n",
       "  'offers': '₹100 Extra Off'},\n",
       " {'website': 'ixigo',\n",
       "  'airline_name': 'Go Air',\n",
       "  'plane_number': 'G82501',\n",
       "  'date': '22/07/2020',\n",
       "  'departure_airport': 'New Delhi',\n",
       "  'departure_time': '02:40',\n",
       "  'arrival_airport': 'Mumbai',\n",
       "  'arrival_time': '04:55',\n",
       "  'flight_duration': '2hr 15min',\n",
       "  'stops': '0',\n",
       "  'original_price': '3934',\n",
       "  'reduced_price': '3934',\n",
       "  'offers': '₹100 Extra Off'},\n",
       " {'website': 'ixigo',\n",
       "  'airline_name': 'Go Air',\n",
       "  'plane_number': 'G8330',\n",
       "  'date': '22/07/2020',\n",
       "  'departure_airport': 'New Delhi',\n",
       "  'departure_time': '20:50',\n",
       "  'arrival_airport': 'Mumbai',\n",
       "  'arrival_time': '23:20',\n",
       "  'flight_duration': '2hr 30min',\n",
       "  'stops': '0',\n",
       "  'original_price': '3934',\n",
       "  'reduced_price': '3934',\n",
       "  'offers': '₹100 Extra Off'},\n",
       " {'website': 'ixigo',\n",
       "  'airline_name': 'SpiceJet',\n",
       "  'plane_number': 'SG8169',\n",
       "  'date': '22/07/2020',\n",
       "  'departure_airport': 'New Delhi',\n",
       "  'departure_time': '19:50',\n",
       "  'arrival_airport': 'Mumbai',\n",
       "  'arrival_time': '22:05',\n",
       "  'flight_duration': '2hr 15min',\n",
       "  'stops': '0',\n",
       "  'original_price': '3935',\n",
       "  'reduced_price': '3935',\n",
       "  'offers': '₹100 Extra Off'},\n",
       " {'website': 'ixigo',\n",
       "  'airline_name': 'SpiceJet',\n",
       "  'plane_number': 'SG8723',\n",
       "  'date': '22/07/2020',\n",
       "  'departure_airport': 'New Delhi',\n",
       "  'departure_time': '06:45',\n",
       "  'arrival_airport': 'Mumbai',\n",
       "  'arrival_time': '09:10',\n",
       "  'flight_duration': '2hr 25min',\n",
       "  'stops': '0',\n",
       "  'original_price': '3935',\n",
       "  'reduced_price': '3935',\n",
       "  'offers': '₹100 Extra Off'}]"
      ]
     },
     "execution_count": 10,
     "metadata": {},
     "output_type": "execute_result"
    }
   ],
   "source": [
    "\n",
    "def create_dict(frm, dest,date):\n",
    "    child = ixigo_get_children(frm, dest, date)\n",
    "    content= []\n",
    "    stop = '0'\n",
    "    \n",
    "    for c in child:\n",
    "        print(c.text)\n",
    "        left = c.find('div',{'class':'left-wing'})\n",
    "        right = c.find('div',{'class':'right-wing'})\n",
    "        plane_details = c.findAll('div',{'class': 'u-text-ellipsis'})\n",
    "#         print(plane_details.text)\n",
    "        if c.find(class_='label br ').text!='non-stop':\n",
    "            stop = c.find(class_='label br ').text.split()[0]\n",
    "        dic={\n",
    "          \"website\": \"ixigo\",\n",
    "          \"airline_name\":plane_details[1].text,\n",
    "          \"plane_number\":plane_details[2].text,\n",
    "          \"date\": date,\n",
    "          \"departure_airport\":left.find(class_='city u-text-ellipsis').text,\n",
    "          \"departure_time\":left.find(class_='time').text,\n",
    "          \"arrival_airport\":right.find(class_='city u-text-ellipsis').text,\n",
    "          \"arrival_time\":right.find(class_='time').text,\n",
    "          \"flight_duration\":c.find(class_='label tl ').text,\n",
    "          \"stops\":stop,\n",
    "          \"original_price\":c.find('span',{'class':''}).text,\n",
    "          \"reduced_price\": c.find('span',{'class':''}).text,\n",
    "          \"offers\": c.find(class_='dynot').text\n",
    "            \n",
    "        }\n",
    "        content.append(dic)\n",
    "    return content\n",
    "\n",
    "\n",
    "create_dict('delhi', 'mumbai', '22/07/2020')"
   ]
  },
  {
   "cell_type": "code",
   "execution_count": null,
   "metadata": {},
   "outputs": [],
   "source": []
  }
 ],
 "metadata": {
  "kernelspec": {
   "display_name": "Python 3",
   "language": "python",
   "name": "python3"
  },
  "language_info": {
   "codemirror_mode": {
    "name": "ipython",
    "version": 3
   },
   "file_extension": ".py",
   "mimetype": "text/x-python",
   "name": "python",
   "nbconvert_exporter": "python",
   "pygments_lexer": "ipython3",
   "version": "3.7.1"
  }
 },
 "nbformat": 4,
 "nbformat_minor": 2
}
